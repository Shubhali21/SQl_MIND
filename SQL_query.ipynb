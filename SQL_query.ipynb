{
 "cells": [
  {
   "cell_type": "code",
   "execution_count": 9,
   "id": "c1dbf6f5",
   "metadata": {},
   "outputs": [],
   "source": [
    "\n",
    "import pandas as pd\n",
    "import duckdb \n",
    "import os\n",
    "from google import genai\n",
    "from google.genai import types\n",
    "import google.generativeai as genai"
   ]
  },
  {
   "cell_type": "code",
   "execution_count": 1,
   "id": "98406755",
   "metadata": {},
   "outputs": [],
   "source": [
    "import pandas as pd"
   ]
  },
  {
   "cell_type": "code",
   "execution_count": 2,
   "id": "a635b8d0",
   "metadata": {},
   "outputs": [],
   "source": [
    "\n",
    "chicago_crime = pd.read_csv(\"./data/chicago_crime_2023_2025.csv\")\n",
    "chicago_crime[\"updated_on\"] = pd.to_datetime(chicago_crime[\"updated_on\"])\n",
    "chicago_crime[\"x_coordinate\"] = chicago_crime[\"x_coordinate\"].astype(float)\n",
    "chicago_crime[\"y_coordinate\"] = chicago_crime[\"y_coordinate\"].astype(float)\n",
    "chicago_crime[\"latitude\"] = chicago_crime[\"latitude\"].astype(float)\n",
    "chicago_crime[\"longitude\"] = chicago_crime[\"longitude\"].astype(float)\n",
    "chicago_crime[\"year\"]= chicago_crime[\"year\"].astype(int)"
   ]
  },
  {
   "cell_type": "code",
   "execution_count": 3,
   "id": "6a3c0578",
   "metadata": {},
   "outputs": [
    {
     "data": {
      "text/html": [
       "<div>\n",
       "<style scoped>\n",
       "    .dataframe tbody tr th:only-of-type {\n",
       "        vertical-align: middle;\n",
       "    }\n",
       "\n",
       "    .dataframe tbody tr th {\n",
       "        vertical-align: top;\n",
       "    }\n",
       "\n",
       "    .dataframe thead th {\n",
       "        text-align: right;\n",
       "    }\n",
       "</style>\n",
       "<table border=\"1\" class=\"dataframe\">\n",
       "  <thead>\n",
       "    <tr style=\"text-align: right;\">\n",
       "      <th></th>\n",
       "      <th>id</th>\n",
       "      <th>case_number</th>\n",
       "      <th>datetime</th>\n",
       "      <th>block</th>\n",
       "      <th>iucr</th>\n",
       "      <th>primary_type</th>\n",
       "      <th>description</th>\n",
       "      <th>location_description</th>\n",
       "      <th>arrest</th>\n",
       "      <th>domestic</th>\n",
       "      <th>...</th>\n",
       "      <th>district</th>\n",
       "      <th>ward</th>\n",
       "      <th>community_area</th>\n",
       "      <th>fbi_code</th>\n",
       "      <th>x_coordinate</th>\n",
       "      <th>y_coordinate</th>\n",
       "      <th>year</th>\n",
       "      <th>updated_on</th>\n",
       "      <th>latitude</th>\n",
       "      <th>longitude</th>\n",
       "    </tr>\n",
       "  </thead>\n",
       "  <tbody>\n",
       "    <tr>\n",
       "      <th>0</th>\n",
       "      <td>13140855</td>\n",
       "      <td>JG341458</td>\n",
       "      <td>2023-01-01 00:00:00</td>\n",
       "      <td>082XX S JEFFERY BLVD</td>\n",
       "      <td>1754</td>\n",
       "      <td>OFFENSE INVOLVING CHILDREN</td>\n",
       "      <td>AGGRAVATED SEXUAL ASSAULT OF CHILD BY FAMILY M...</td>\n",
       "      <td>APARTMENT</td>\n",
       "      <td>False</td>\n",
       "      <td>True</td>\n",
       "      <td>...</td>\n",
       "      <td>4</td>\n",
       "      <td>8.0</td>\n",
       "      <td>46.0</td>\n",
       "      <td>02</td>\n",
       "      <td>1190953.0</td>\n",
       "      <td>1850848.0</td>\n",
       "      <td>2023</td>\n",
       "      <td>2023-09-24 15:41:26</td>\n",
       "      <td>41.745739</td>\n",
       "      <td>-87.575883</td>\n",
       "    </tr>\n",
       "    <tr>\n",
       "      <th>1</th>\n",
       "      <td>13180096</td>\n",
       "      <td>JG387858</td>\n",
       "      <td>2023-01-01 00:00:00</td>\n",
       "      <td>075XX S WOLCOTT AVE</td>\n",
       "      <td>1153</td>\n",
       "      <td>DECEPTIVE PRACTICE</td>\n",
       "      <td>FINANCIAL IDENTITY THEFT OVER $ 300</td>\n",
       "      <td>RESIDENCE</td>\n",
       "      <td>False</td>\n",
       "      <td>False</td>\n",
       "      <td>...</td>\n",
       "      <td>6</td>\n",
       "      <td>17.0</td>\n",
       "      <td>71.0</td>\n",
       "      <td>11</td>\n",
       "      <td>1164996.0</td>\n",
       "      <td>1854651.0</td>\n",
       "      <td>2023</td>\n",
       "      <td>2023-08-20 15:40:56</td>\n",
       "      <td>41.756762</td>\n",
       "      <td>-87.670887</td>\n",
       "    </tr>\n",
       "    <tr>\n",
       "      <th>2</th>\n",
       "      <td>13168471</td>\n",
       "      <td>JG374193</td>\n",
       "      <td>2023-01-01 00:00:00</td>\n",
       "      <td>013XX W HARRISON ST</td>\n",
       "      <td>0460</td>\n",
       "      <td>BATTERY</td>\n",
       "      <td>SIMPLE</td>\n",
       "      <td>SCHOOL - PUBLIC GROUNDS</td>\n",
       "      <td>False</td>\n",
       "      <td>False</td>\n",
       "      <td>...</td>\n",
       "      <td>12</td>\n",
       "      <td>34.0</td>\n",
       "      <td>28.0</td>\n",
       "      <td>08B</td>\n",
       "      <td>1167465.0</td>\n",
       "      <td>1897475.0</td>\n",
       "      <td>2023</td>\n",
       "      <td>2023-08-19 15:40:26</td>\n",
       "      <td>41.874223</td>\n",
       "      <td>-87.660610</td>\n",
       "    </tr>\n",
       "    <tr>\n",
       "      <th>3</th>\n",
       "      <td>13078152</td>\n",
       "      <td>JG267031</td>\n",
       "      <td>2023-01-01 00:00:00</td>\n",
       "      <td>101XX S BEVERLY AVE</td>\n",
       "      <td>1153</td>\n",
       "      <td>DECEPTIVE PRACTICE</td>\n",
       "      <td>FINANCIAL IDENTITY THEFT OVER $ 300</td>\n",
       "      <td>RESIDENCE</td>\n",
       "      <td>False</td>\n",
       "      <td>False</td>\n",
       "      <td>...</td>\n",
       "      <td>22</td>\n",
       "      <td>21.0</td>\n",
       "      <td>73.0</td>\n",
       "      <td>11</td>\n",
       "      <td>1168800.0</td>\n",
       "      <td>1837525.0</td>\n",
       "      <td>2023</td>\n",
       "      <td>2023-08-19 15:40:26</td>\n",
       "      <td>41.709685</td>\n",
       "      <td>-87.657439</td>\n",
       "    </tr>\n",
       "    <tr>\n",
       "      <th>4</th>\n",
       "      <td>13120699</td>\n",
       "      <td>JG314178</td>\n",
       "      <td>2023-01-01 00:00:00</td>\n",
       "      <td>063XX N FAIRFIELD AVE</td>\n",
       "      <td>1544</td>\n",
       "      <td>SEX OFFENSE</td>\n",
       "      <td>SEXUAL EXPLOITATION OF A CHILD</td>\n",
       "      <td>OTHER (SPECIFY)</td>\n",
       "      <td>False</td>\n",
       "      <td>False</td>\n",
       "      <td>...</td>\n",
       "      <td>24</td>\n",
       "      <td>50.0</td>\n",
       "      <td>2.0</td>\n",
       "      <td>17</td>\n",
       "      <td>1156847.0</td>\n",
       "      <td>1941985.0</td>\n",
       "      <td>2023</td>\n",
       "      <td>2023-08-19 15:40:26</td>\n",
       "      <td>41.996584</td>\n",
       "      <td>-87.698384</td>\n",
       "    </tr>\n",
       "  </tbody>\n",
       "</table>\n",
       "<p>5 rows × 21 columns</p>\n",
       "</div>"
      ],
      "text/plain": [
       "         id case_number             datetime                  block  iucr  \\\n",
       "0  13140855    JG341458  2023-01-01 00:00:00   082XX S JEFFERY BLVD  1754   \n",
       "1  13180096    JG387858  2023-01-01 00:00:00    075XX S WOLCOTT AVE  1153   \n",
       "2  13168471    JG374193  2023-01-01 00:00:00    013XX W HARRISON ST  0460   \n",
       "3  13078152    JG267031  2023-01-01 00:00:00    101XX S BEVERLY AVE  1153   \n",
       "4  13120699    JG314178  2023-01-01 00:00:00  063XX N FAIRFIELD AVE  1544   \n",
       "\n",
       "                 primary_type  \\\n",
       "0  OFFENSE INVOLVING CHILDREN   \n",
       "1          DECEPTIVE PRACTICE   \n",
       "2                     BATTERY   \n",
       "3          DECEPTIVE PRACTICE   \n",
       "4                 SEX OFFENSE   \n",
       "\n",
       "                                         description     location_description  \\\n",
       "0  AGGRAVATED SEXUAL ASSAULT OF CHILD BY FAMILY M...                APARTMENT   \n",
       "1                FINANCIAL IDENTITY THEFT OVER $ 300                RESIDENCE   \n",
       "2                                             SIMPLE  SCHOOL - PUBLIC GROUNDS   \n",
       "3                FINANCIAL IDENTITY THEFT OVER $ 300                RESIDENCE   \n",
       "4                     SEXUAL EXPLOITATION OF A CHILD          OTHER (SPECIFY)   \n",
       "\n",
       "   arrest  domestic  ...  district  ward  community_area  fbi_code  \\\n",
       "0   False      True  ...         4   8.0            46.0        02   \n",
       "1   False     False  ...         6  17.0            71.0        11   \n",
       "2   False     False  ...        12  34.0            28.0       08B   \n",
       "3   False     False  ...        22  21.0            73.0        11   \n",
       "4   False     False  ...        24  50.0             2.0        17   \n",
       "\n",
       "  x_coordinate  y_coordinate  year          updated_on   latitude  longitude  \n",
       "0    1190953.0     1850848.0  2023 2023-09-24 15:41:26  41.745739 -87.575883  \n",
       "1    1164996.0     1854651.0  2023 2023-08-20 15:40:56  41.756762 -87.670887  \n",
       "2    1167465.0     1897475.0  2023 2023-08-19 15:40:26  41.874223 -87.660610  \n",
       "3    1168800.0     1837525.0  2023 2023-08-19 15:40:26  41.709685 -87.657439  \n",
       "4    1156847.0     1941985.0  2023 2023-08-19 15:40:26  41.996584 -87.698384  \n",
       "\n",
       "[5 rows x 21 columns]"
      ]
     },
     "execution_count": 3,
     "metadata": {},
     "output_type": "execute_result"
    }
   ],
   "source": [
    "chicago_crime.head()"
   ]
  },
  {
   "cell_type": "code",
   "execution_count": 4,
   "id": "b697d1c8",
   "metadata": {},
   "outputs": [
    {
     "name": "stdout",
     "output_type": "stream",
     "text": [
      "id                               int64\n",
      "case_number                     object\n",
      "datetime                        object\n",
      "block                           object\n",
      "iucr                            object\n",
      "primary_type                    object\n",
      "description                     object\n",
      "location_description            object\n",
      "arrest                            bool\n",
      "domestic                          bool\n",
      "beat                             int64\n",
      "district                         int64\n",
      "ward                           float64\n",
      "community_area                 float64\n",
      "fbi_code                        object\n",
      "x_coordinate                   float64\n",
      "y_coordinate                   float64\n",
      "year                             int64\n",
      "updated_on              datetime64[ns]\n",
      "latitude                       float64\n",
      "longitude                      float64\n",
      "dtype: object\n"
     ]
    }
   ],
   "source": [
    "\n",
    "print(chicago_crime.dtypes)"
   ]
  },
  {
   "cell_type": "code",
   "execution_count": null,
   "id": "1d1d12e6",
   "metadata": {},
   "outputs": [],
   "source": [
    "from google import genai\n",
    "\n",
    "client = genai.Client(api_key=apikey)"
   ]
  },
  {
   "cell_type": "code",
   "execution_count": 16,
   "id": "4fd40a31",
   "metadata": {},
   "outputs": [],
   "source": [
    "prompt1 = \"\"\"\n",
    "        I am working with a dataset that contains information about Chicago crime incidents. \n",
    "        I want to create a SQL query to pull the total number of crimes that ended in arrest by a year\n",
    "        \"\"\""
   ]
  },
  {
   "cell_type": "code",
   "execution_count": 17,
   "id": "56d1416e",
   "metadata": {},
   "outputs": [],
   "source": [
    "response1 = client.models.generate_content(\n",
    "    model=\"gemini-2.0-flash\",\n",
    "    contents= prompt1,\n",
    "    config=types.GenerateContentConfig(\n",
    "        max_output_tokens=500,\n",
    "        temperature=0\n",
    "    )\n",
    ")"
   ]
  },
  {
   "cell_type": "code",
   "execution_count": 20,
   "id": "92e65f61",
   "metadata": {},
   "outputs": [
    {
     "name": "stdout",
     "output_type": "stream",
     "text": [
      "```sql\n",
      "SELECT\n",
      "    STRFTIME('%Y', Date) AS CrimeYear,  -- Extract the year from the 'Date' column\n",
      "    COUNT(*) AS TotalArrests  -- Count the number of crimes for each year\n",
      "FROM\n",
      "    ChicagoCrimes  -- Replace 'ChicagoCrimes' with the actual name of your table\n",
      "WHERE\n",
      "    Arrest = TRUE  -- Filter for crimes where an arrest was made\n",
      "GROUP BY\n",
      "    CrimeYear  -- Group the results by year\n",
      "ORDER BY\n",
      "    CrimeYear;  -- Order the results by year (optional, for readability)\n",
      "```\n",
      "\n",
      "**Explanation:**\n",
      "\n",
      "1. **`SELECT STRFTIME('%Y', Date) AS CrimeYear`**:\n",
      "   - `STRFTIME('%Y', Date)`: This is the key part for extracting the year.  `STRFTIME` is a SQLite function (and similar functions exist in other SQL dialects like MySQL, PostgreSQL, etc.) that formats a date/time value.  `'%Y'` specifies that we want to extract the year in a four-digit format (e.g., 2023).  `Date` is assumed to be the name of the column in your table that stores the date and time of the crime incident.  **Important:**  Make sure the `Date` column is actually stored as a date/time data type in your database. If it's stored as text, you might need to use a different function to convert it to a date/time value first (e.g., `DATE(Date)` or `DATETIME(Date)`).\n",
      "   - `AS CrimeYear`: This assigns an alias \"CrimeYear\" to the extracted year, making it easier to refer to in the rest of the query.\n",
      "\n",
      "2. **`COUNT(*) AS TotalArrests`**:\n",
      "   - `COUNT(*)`: This counts all rows that match the `WHERE` clause within each group (defined by the `GROUP BY` clause).  In this case, it counts the number of crimes that resulted in an arrest for each year.\n",
      "   - `AS TotalArrests`: This assigns the alias \"TotalArrests\" to the count.\n",
      "\n",
      "3. **`FROM ChicagoCrimes`**:\n",
      "   - `ChicagoCrimes`:  This specifies the name of the table you're querying.  **Replace `ChicagoCrimes` with the actual name of your table.**\n"
     ]
    }
   ],
   "source": [
    "print(response1.candidates[0].content.parts[0].text)"
   ]
  },
  {
   "cell_type": "code",
   "execution_count": 21,
   "id": "35615501",
   "metadata": {},
   "outputs": [],
   "source": [
    "prompt2 = \"\"\"I am working with a dataset that contains information about Chicago crime incidents. \n",
    "        The table name is 'chicago_crime'. I want to create a SQL query to pull the total number of crimes that ended in arrest by a year. \n",
    "        The columns are: id, case_number, date, block, primary_type, description, location_description, arrest, domestic, beat, district, ward, community_area, fbi_code, x_coordinate, y_coordinate, year, updated_on. Please provide the SQL query.\n",
    "        \"\"\""
   ]
  },
  {
   "cell_type": "code",
   "execution_count": 22,
   "id": "72756970",
   "metadata": {},
   "outputs": [],
   "source": [
    "\n",
    "response2 = client.models.generate_content(\n",
    "    model=\"gemini-2.0-flash\",\n",
    "    contents= prompt2,\n",
    "    config=types.GenerateContentConfig(\n",
    "        max_output_tokens=500,\n",
    "        temperature=0\n",
    "    )\n",
    ")"
   ]
  },
  {
   "cell_type": "code",
   "execution_count": 23,
   "id": "f962fb36",
   "metadata": {},
   "outputs": [
    {
     "name": "stdout",
     "output_type": "stream",
     "text": [
      "```sql\n",
      "SELECT\n",
      "    year,\n",
      "    COUNT(*) AS total_arrests\n",
      "FROM\n",
      "    chicago_crime\n",
      "WHERE\n",
      "    arrest = TRUE  -- Assuming 'arrest' is a boolean column (TRUE/FALSE)\n",
      "    -- If 'arrest' is a string column ('TRUE'/'FALSE' or 'Yes'/'No'), adjust the WHERE clause accordingly.\n",
      "    -- For example: WHERE arrest = 'TRUE' or WHERE arrest = 'Yes'\n",
      "GROUP BY\n",
      "    year\n",
      "ORDER BY\n",
      "    year;\n",
      "```\n",
      "\n",
      "**Explanation:**\n",
      "\n",
      "1. **`SELECT year, COUNT(*) AS total_arrests`**:  This selects the `year` and the count of all rows for each year, aliasing the count as `total_arrests`.\n",
      "2. **`FROM chicago_crime`**:  This specifies the table to retrieve data from.\n",
      "3. **`WHERE arrest = TRUE`**: This filters the data to include only rows where the `arrest` column indicates an arrest was made.  **Important:**  This assumes your `arrest` column is a boolean (TRUE/FALSE).  If it's a string (e.g., 'TRUE', 'FALSE', 'Yes', 'No'), you'll need to adjust this condition accordingly (see the comment in the code).\n",
      "4. **`GROUP BY year`**: This groups the results by year, so `COUNT(*)` counts the arrests for each year separately.\n",
      "5. **`ORDER BY year`**: This sorts the results by year in ascending order, making the output easier to read.\n",
      "\n",
      "**Important Considerations based on the `arrest` column data type:**\n",
      "\n",
      "*   **Boolean (TRUE/FALSE):** The query as written is correct.\n",
      "*   **String ('TRUE'/'FALSE' or 'Yes'/'No'):**  You'll need to modify the `WHERE` clause:\n",
      "\n",
      "    ```sql\n",
      "    WHERE arrest = 'TRUE'  -- If the column contains 'TRUE' and 'FALSE'\n",
      "    ```\n",
      "\n",
      "    or\n",
      "\n",
      "    ```sql\n",
      "    WHERE arrest = 'Yes'   -- If the column contains 'Yes' and 'No'\n",
      "    ```\n",
      "\n",
      "*   **Integer (1/0):**  You'll need to modify the `WHERE` clause:\n",
      "\n",
      "    ```sql\n",
      "    WHERE arrest = 1  -- If the column contains 1 for arrest and \n"
     ]
    }
   ],
   "source": [
    "print(response2.candidates[0].content.parts[0].text)"
   ]
  },
  {
   "cell_type": "code",
   "execution_count": 24,
   "id": "15f0ac2e",
   "metadata": {},
   "outputs": [],
   "source": [
    "sql = \"\"\"\n",
    "SELECT\n",
    "    year,\n",
    "    COUNT(*) AS total_arrests\n",
    "FROM\n",
    "    chicago_crime\n",
    "WHERE\n",
    "    arrest = TRUE  -- Assuming 'arrest' is a boolean column (TRUE/FALSE)\n",
    "    -- If 'arrest' is a string column ('TRUE'/'FALSE' or 'Yes'/'No'), adjust the WHERE clause accordingly.\n",
    "    -- For example: WHERE arrest = 'TRUE' or WHERE arrest = 'Yes'\n",
    "GROUP BY\n",
    "    year\n",
    "ORDER BY\n",
    "    year;\n",
    "    \"\"\""
   ]
  },
  {
   "cell_type": "code",
   "execution_count": 25,
   "id": "0545b885",
   "metadata": {},
   "outputs": [
    {
     "name": "stdout",
     "output_type": "stream",
     "text": [
      "┌───────┬───────────────┐\n",
      "│ year  │ total_arrests │\n",
      "│ int64 │     int64     │\n",
      "├───────┼───────────────┤\n",
      "│  2023 │         31998 │\n",
      "│  2024 │         35393 │\n",
      "│  2025 │         12609 │\n",
      "└───────┴───────────────┘\n",
      "\n"
     ]
    }
   ],
   "source": [
    "\n",
    "duckdb.sql(sql).show()"
   ]
  },
  {
   "cell_type": "code",
   "execution_count": 26,
   "id": "917065d9",
   "metadata": {},
   "outputs": [],
   "source": [
    "prompt_template = \"\"\"I am working with a dataset that contains information about Chicago crime incidents. \n",
    "                    The table name is 'chicago_crime'. I want to create a SQL query that answers the following question: \"{}\". \n",
    "                    The columns are: id, case_number, date, block, primary_type, description, location_description, arrest, domestic, beat, district, ward, community_area, fbi_code, x_coordinate, y_coordinate, year, updated_on. Please provide the SQL query.\n",
    "                \"\"\""
   ]
  },
  {
   "cell_type": "code",
   "execution_count": 27,
   "id": "93ecd3a2",
   "metadata": {},
   "outputs": [],
   "source": [
    "\n",
    "user_question = \"How many cases ended up with arrest during 2024?\"\n",
    "prompt3 = prompt_template.format(user_question)"
   ]
  },
  {
   "cell_type": "code",
   "execution_count": 28,
   "id": "1bf40400",
   "metadata": {},
   "outputs": [],
   "source": [
    "response3 = client.models.generate_content(\n",
    "    model=\"gemini-2.0-flash\",\n",
    "    contents= prompt3,\n",
    "    config=types.GenerateContentConfig(\n",
    "        max_output_tokens=500,\n",
    "        temperature=0\n",
    "    )\n",
    ")"
   ]
  },
  {
   "cell_type": "code",
   "execution_count": 29,
   "id": "f4632acc",
   "metadata": {},
   "outputs": [
    {
     "name": "stdout",
     "output_type": "stream",
     "text": [
      "```sql\n",
      "SELECT COUNT(*) AS arrest_count\n",
      "FROM chicago_crime\n",
      "WHERE year = 2024\n",
      "  AND arrest = TRUE;\n",
      "```\n",
      "\n",
      "**Explanation:**\n",
      "\n",
      "*   **`SELECT COUNT(*) AS arrest_count`**: This counts all rows that meet the specified criteria and names the resulting count `arrest_count`.\n",
      "*   **`FROM chicago_crime`**: This specifies that we are querying the `chicago_crime` table.\n",
      "*   **`WHERE year = 2024`**: This filters the data to include only incidents that occurred in the year 2024.\n",
      "*   **`AND arrest = TRUE`**: This further filters the data to include only incidents where an arrest was made.  The `arrest` column is assumed to be a boolean (TRUE/FALSE) indicating whether an arrest occurred.  If the `arrest` column is stored as a different data type (e.g., 'Y'/'N', 1/0), you'll need to adjust this condition accordingly (e.g., `AND arrest = 'Y'` or `AND arrest = 1`).\n",
      "\n"
     ]
    }
   ],
   "source": [
    "print(response3.candidates[0].content.parts[0].text)"
   ]
  },
  {
   "cell_type": "code",
   "execution_count": 30,
   "id": "3b7ad61e",
   "metadata": {},
   "outputs": [],
   "source": [
    "sql = \"\"\"\n",
    "SELECT COUNT(*) AS arrest_count\n",
    "FROM chicago_crime\n",
    "WHERE year = 2024\n",
    "  AND arrest = TRUE;\n",
    "\"\"\""
   ]
  },
  {
   "cell_type": "code",
   "execution_count": 31,
   "id": "4715ff8e",
   "metadata": {},
   "outputs": [
    {
     "name": "stdout",
     "output_type": "stream",
     "text": [
      "┌──────────────┐\n",
      "│ arrest_count │\n",
      "│    int64     │\n",
      "├──────────────┤\n",
      "│        35393 │\n",
      "└──────────────┘\n",
      "\n"
     ]
    }
   ],
   "source": [
    "duckdb.sql(sql).show()"
   ]
  },
  {
   "cell_type": "code",
   "execution_count": 32,
   "id": "fc1350c1",
   "metadata": {},
   "outputs": [],
   "source": [
    "system_template = \"\"\"\n",
    "Given the following SQL table, your job is to write queries given a user’s request. \\n\n",
    "CREATE TABLE {} ({}) \\n\n",
    "\"\"\""
   ]
  },
  {
   "cell_type": "code",
   "execution_count": 33,
   "id": "ae219d93",
   "metadata": {},
   "outputs": [],
   "source": [
    "user_template = \"Write a SQL query that returns - {}\""
   ]
  },
  {
   "cell_type": "code",
   "execution_count": 34,
   "id": "abe984b0",
   "metadata": {},
   "outputs": [
    {
     "data": {
      "text/plain": [
       "┌──────────────────────┬──────────────┬─────────┬─────────┬─────────┬─────────┐\n",
       "│     column_name      │ column_type  │  null   │   key   │ default │  extra  │\n",
       "│       varchar        │   varchar    │ varchar │ varchar │ varchar │ varchar │\n",
       "├──────────────────────┼──────────────┼─────────┼─────────┼─────────┼─────────┤\n",
       "│ id                   │ BIGINT       │ YES     │ NULL    │ NULL    │ NULL    │\n",
       "│ case_number          │ VARCHAR      │ YES     │ NULL    │ NULL    │ NULL    │\n",
       "│ datetime             │ VARCHAR      │ YES     │ NULL    │ NULL    │ NULL    │\n",
       "│ block                │ VARCHAR      │ YES     │ NULL    │ NULL    │ NULL    │\n",
       "│ iucr                 │ VARCHAR      │ YES     │ NULL    │ NULL    │ NULL    │\n",
       "│ primary_type         │ VARCHAR      │ YES     │ NULL    │ NULL    │ NULL    │\n",
       "│ description          │ VARCHAR      │ YES     │ NULL    │ NULL    │ NULL    │\n",
       "│ location_description │ VARCHAR      │ YES     │ NULL    │ NULL    │ NULL    │\n",
       "│ arrest               │ BOOLEAN      │ YES     │ NULL    │ NULL    │ NULL    │\n",
       "│ domestic             │ BOOLEAN      │ YES     │ NULL    │ NULL    │ NULL    │\n",
       "│ beat                 │ BIGINT       │ YES     │ NULL    │ NULL    │ NULL    │\n",
       "│ district             │ BIGINT       │ YES     │ NULL    │ NULL    │ NULL    │\n",
       "│ ward                 │ DOUBLE       │ YES     │ NULL    │ NULL    │ NULL    │\n",
       "│ community_area       │ DOUBLE       │ YES     │ NULL    │ NULL    │ NULL    │\n",
       "│ fbi_code             │ VARCHAR      │ YES     │ NULL    │ NULL    │ NULL    │\n",
       "│ x_coordinate         │ DOUBLE       │ YES     │ NULL    │ NULL    │ NULL    │\n",
       "│ y_coordinate         │ DOUBLE       │ YES     │ NULL    │ NULL    │ NULL    │\n",
       "│ year                 │ BIGINT       │ YES     │ NULL    │ NULL    │ NULL    │\n",
       "│ updated_on           │ TIMESTAMP_NS │ YES     │ NULL    │ NULL    │ NULL    │\n",
       "│ latitude             │ DOUBLE       │ YES     │ NULL    │ NULL    │ NULL    │\n",
       "│ longitude            │ DOUBLE       │ YES     │ NULL    │ NULL    │ NULL    │\n",
       "├──────────────────────┴──────────────┴─────────┴─────────┴─────────┴─────────┤\n",
       "│ 21 rows                                                           6 columns │\n",
       "└─────────────────────────────────────────────────────────────────────────────┘"
      ]
     },
     "execution_count": 34,
     "metadata": {},
     "output_type": "execute_result"
    }
   ],
   "source": [
    "table_name = \"chicago_crime\" \n",
    "tbl_description = duckdb.sql(\"DESCRIBE SELECT * FROM \" + table_name +  \";\")\n",
    "tbl_description"
   ]
  },
  {
   "cell_type": "code",
   "execution_count": 35,
   "id": "5c3bf246",
   "metadata": {},
   "outputs": [
    {
     "data": {
      "text/plain": [
       "'id BIGINT, case_number VARCHAR, datetime VARCHAR, block VARCHAR, iucr VARCHAR, primary_type VARCHAR, description VARCHAR, location_description VARCHAR, arrest BOOLEAN, domestic BOOLEAN, beat BIGINT, district BIGINT, ward DOUBLE, community_area DOUBLE, fbi_code VARCHAR, x_coordinate DOUBLE, y_coordinate DOUBLE, year BIGINT, updated_on TIMESTAMP_NS, latitude DOUBLE, longitude DOUBLE'"
      ]
     },
     "execution_count": 35,
     "metadata": {},
     "output_type": "execute_result"
    }
   ],
   "source": [
    "col_attr = tbl_description.df()[[\"column_name\", \"column_type\"]]\n",
    "col_attr[\"column_joint\"] = col_attr[\"column_name\"] + \" \" +  col_attr[\"column_type\"]\n",
    "col_names = str(list(col_attr[\"column_joint\"].values)).replace('[', '').replace(']', '').replace('\\'', '')\n",
    "col_names"
   ]
  },
  {
   "cell_type": "code",
   "execution_count": 36,
   "id": "f6a85932",
   "metadata": {},
   "outputs": [
    {
     "name": "stdout",
     "output_type": "stream",
     "text": [
      "\n",
      "Given the following SQL table, your job is to write queries given a user’s request. \n",
      "\n",
      "CREATE TABLE chicago_crime (id BIGINT, case_number VARCHAR, datetime VARCHAR, block VARCHAR, iucr VARCHAR, primary_type VARCHAR, description VARCHAR, location_description VARCHAR, arrest BOOLEAN, domestic BOOLEAN, beat BIGINT, district BIGINT, ward DOUBLE, community_area DOUBLE, fbi_code VARCHAR, x_coordinate DOUBLE, y_coordinate DOUBLE, year BIGINT, updated_on TIMESTAMP_NS, latitude DOUBLE, longitude DOUBLE) \n",
      "\n",
      "\n"
     ]
    }
   ],
   "source": [
    "\n",
    "system = system_template.format(table_name, col_names)\n",
    "print(system)"
   ]
  },
  {
   "cell_type": "code",
   "execution_count": 37,
   "id": "ba52a94a",
   "metadata": {},
   "outputs": [
    {
     "name": "stdout",
     "output_type": "stream",
     "text": [
      "Write a SQL query that returns - How many cases ended up with arrest during 2024?\n"
     ]
    }
   ],
   "source": [
    "question = \"How many cases ended up with arrest during 2024?\"\n",
    "user = user_template.format(question)\n",
    "print(user)"
   ]
  },
  {
   "cell_type": "code",
   "execution_count": 38,
   "id": "08756818",
   "metadata": {},
   "outputs": [],
   "source": [
    "prompt4 = [system, user]"
   ]
  },
  {
   "cell_type": "code",
   "execution_count": 39,
   "id": "9940ecf9",
   "metadata": {},
   "outputs": [],
   "source": [
    "\n",
    "response4 = client.models.generate_content(\n",
    "    model=\"gemini-2.0-flash\",\n",
    "    contents= prompt4,\n",
    "    config=types.GenerateContentConfig(\n",
    "        max_output_tokens=500,\n",
    "        temperature=0\n",
    "    )\n",
    ")"
   ]
  },
  {
   "cell_type": "code",
   "execution_count": 40,
   "id": "ef4ff30c",
   "metadata": {},
   "outputs": [
    {
     "name": "stdout",
     "output_type": "stream",
     "text": [
      "```sql\n",
      "SELECT\n",
      "  COUNT(CASE WHEN arrest = TRUE THEN 1 ELSE NULL END)\n",
      "FROM chicago_crime\n",
      "WHERE\n",
      "  year = 2024;\n",
      "```\n"
     ]
    }
   ],
   "source": [
    "\n",
    "print(response4.candidates[0].content.parts[0].text)"
   ]
  },
  {
   "cell_type": "code",
   "execution_count": 41,
   "id": "93c91648",
   "metadata": {},
   "outputs": [],
   "source": [
    "\n",
    "import re\n",
    "\n",
    "def is_markdown_code_chunk(text):\n",
    "    \"\"\"\n",
    "    Checks if the given text is in Markdown code chunk format.\n",
    "\n",
    "    Args:\n",
    "        text (str): The text to check.\n",
    "\n",
    "    Returns:\n",
    "        bool: True if the text is in Markdown code chunk format, False otherwise.\n",
    "    \"\"\"\n",
    "    pattern = r\"```[^`]*```\"\n",
    "    return bool(re.search(pattern, text, re.DOTALL))\n",
    "\n",
    "def extract_code_from_markdown(markdown_text):\n",
    "    \"\"\"\n",
    "    Extracts code from a Markdown code chunk.\n",
    "\n",
    "    Args:\n",
    "        markdown_text (str): The Markdown text containing the code chunk.\n",
    "\n",
    "    Returns:\n",
    "        str: The extracted code.\n",
    "    \"\"\"\n",
    "    pattern = r\"```(.*?)\\n(?P<code>.*?)\\n```\"\n",
    "    match = re.search(pattern, markdown_text, re.DOTALL)\n",
    "    if match:\n",
    "        return match.group(\"code\")\n",
    "    else:\n",
    "        return None"
   ]
  },
  {
   "cell_type": "code",
   "execution_count": 42,
   "id": "076c017d",
   "metadata": {},
   "outputs": [
    {
     "name": "stdout",
     "output_type": "stream",
     "text": [
      "```sql\n",
      "SELECT\n",
      "  COUNT(CASE WHEN arrest = TRUE THEN 1 ELSE NULL END)\n",
      "FROM chicago_crime\n",
      "WHERE\n",
      "  year = 2024;\n",
      "```\n",
      "SELECT\n",
      "  COUNT(CASE WHEN arrest = TRUE THEN 1 ELSE NULL END)\n",
      "FROM chicago_crime\n",
      "WHERE\n",
      "  year = 2024;\n"
     ]
    }
   ],
   "source": [
    "sql_chunk  = response4.candidates[0].content.parts[0].text\n",
    "\n",
    "if is_markdown_code_chunk(text= sql_chunk):\n",
    "    sql = extract_code_from_markdown(markdown_text= sql_chunk)\n",
    "else:\n",
    "    sql = sql_chunk\n",
    "\n",
    "print(sql_chunk)\n",
    "print(sql)"
   ]
  },
  {
   "cell_type": "code",
   "execution_count": 43,
   "id": "85365cef",
   "metadata": {},
   "outputs": [
    {
     "name": "stdout",
     "output_type": "stream",
     "text": [
      "┌────────────────────────────────────────────────────────────────────────────┐\n",
      "│ count(CASE  WHEN ((arrest = CAST('t' AS BOOLEAN))) THEN (1) ELSE NULL END) │\n",
      "│                                   int64                                    │\n",
      "├────────────────────────────────────────────────────────────────────────────┤\n",
      "│                                                                      35393 │\n",
      "└────────────────────────────────────────────────────────────────────────────┘\n",
      "\n"
     ]
    }
   ],
   "source": [
    "\n",
    "duckdb.sql(sql).show()"
   ]
  },
  {
   "cell_type": "code",
   "execution_count": 45,
   "id": "8d3e6720",
   "metadata": {},
   "outputs": [],
   "source": [
    "\n",
    "def create_message(table_name, query):\n",
    "\n",
    "    class message:\n",
    "        def __init__(message, system, user, column_names, column_attr):\n",
    "            message.system = system\n",
    "            message.user = user\n",
    "            message.column_names = column_names\n",
    "            message.column_attr = column_attr\n",
    "\n",
    "    \n",
    "    system_template = \"\"\"\n",
    "\n",
    "    Given the following SQL table, your job is to write queries given a user’s request. Return just the SQL query as plan text, without additional text and don't use markdown format. \\n\n",
    "\n",
    "    CREATE TABLE {} ({}) \\n\n",
    "    \"\"\"\n",
    "\n",
    "    user_template = \"Write a SQL query that returns - {}\"\n",
    "    \n",
    "    tbl_describe = duckdb.sql(\"DESCRIBE SELECT * FROM \" + table_name +  \";\")\n",
    "    col_attr = tbl_describe.df()[[\"column_name\", \"column_type\"]]\n",
    "    col_attr[\"column_joint\"] = col_attr[\"column_name\"] + \" \" +  col_attr[\"column_type\"]\n",
    "    col_names = str(list(col_attr[\"column_joint\"].values)).replace('[', '').replace(']', '').replace('\\'', '')\n",
    "\n",
    "    system = system_template.format(table_name, col_names)\n",
    "    user = user_template.format(query)\n",
    "\n",
    "    m = message(system = system, user = user, column_names = col_attr[\"column_name\"], column_attr = col_attr[\"column_type\"])\n",
    "    return m"
   ]
  },
  {
   "cell_type": "markdown",
   "id": "a1f32100",
   "metadata": {},
   "source": [
    "functionalizw the process\n"
   ]
  },
  {
   "cell_type": "markdown",
   "id": "491d9384",
   "metadata": {},
   "source": []
  },
  {
   "cell_type": "code",
   "execution_count": 46,
   "id": "5bfeb780",
   "metadata": {},
   "outputs": [],
   "source": [
    "\n",
    "query = \"How many cases ended up with arrest?\"\n",
    "msg = create_message(table_name = \"chicago_crime\", query = query)"
   ]
  },
  {
   "cell_type": "code",
   "execution_count": 53,
   "id": "0cad22ea",
   "metadata": {},
   "outputs": [
    {
     "name": "stdout",
     "output_type": "stream",
     "text": [
      "\n",
      "\n",
      "    Given the following SQL table, your job is to write queries given a user’s request. Return just the SQL query as plan text, without additional text and don't use markdown format. \n",
      "\n",
      "\n",
      "    CREATE TABLE chicago_crime (id BIGINT, case_number VARCHAR, datetime VARCHAR, block VARCHAR, iucr VARCHAR, primary_type VARCHAR, description VARCHAR, location_description VARCHAR, arrest BOOLEAN, domestic BOOLEAN, beat BIGINT, district BIGINT, ward DOUBLE, community_area DOUBLE, fbi_code VARCHAR, x_coordinate DOUBLE, y_coordinate DOUBLE, year BIGINT, updated_on TIMESTAMP_NS, latitude DOUBLE, longitude DOUBLE) \n",
      "\n",
      "    \n"
     ]
    }
   ],
   "source": [
    "print(msg.system)"
   ]
  },
  {
   "cell_type": "code",
   "execution_count": 48,
   "id": "40c3b37f",
   "metadata": {},
   "outputs": [],
   "source": [
    "\n",
    "prompt = [msg.system, msg.user]"
   ]
  },
  {
   "cell_type": "code",
   "execution_count": 49,
   "id": "a5e5e4e9",
   "metadata": {},
   "outputs": [],
   "source": [
    "response = client.models.generate_content(\n",
    "    model=\"gemini-2.0-flash\",\n",
    "    contents= prompt,\n",
    "    config=types.GenerateContentConfig(\n",
    "        max_output_tokens=500,\n",
    "        temperature=0,\n",
    "        top_p = 1,\n",
    "        top_k = 32\n",
    "    )\n",
    ")"
   ]
  },
  {
   "cell_type": "code",
   "execution_count": 51,
   "id": "54b248f4",
   "metadata": {},
   "outputs": [
    {
     "name": "stdout",
     "output_type": "stream",
     "text": [
      "```sql\n",
      "SELECT count(*) FROM chicago_crime WHERE arrest = TRUE\n",
      "```\n",
      "SELECT count(*) FROM chicago_crime WHERE arrest = TRUE\n"
     ]
    }
   ],
   "source": [
    "\n",
    "code = response.candidates[0].content.parts[0].text\n",
    "print(code)\n",
    "code = extract_code_from_markdown(markdown_text=code)\n",
    "print(code)"
   ]
  },
  {
   "cell_type": "code",
   "execution_count": null,
   "id": "92ac9669",
   "metadata": {},
   "outputs": [],
   "source": [
    "\n",
    "def lang2sql_gemini( table_name, query, model =\"gemini-2.0-flash\", temperature = 0,max_output_token = 256):\n",
    "    class lang2sql:\n",
    "        def __init__(output, message, response, sql):\n",
    "            output.message = message\n",
    "            output.response = response\n",
    "            output.sql = sql      \n",
    "\n",
    "    client = genai.Client(api_key = api_key)\n",
    "\n",
    "    m = create_message(table_name = table_name, query = query)\n",
    "\n",
    "    prompt = [m.system, m.user]\n",
    "\n",
    "    response = client.models.generate_content(\n",
    "    model=model,\n",
    "    contents= prompt,\n",
    "    config=types.GenerateContentConfig(\n",
    "        max_output_tokens=max_output_token,\n",
    "        temperature=temperature\n",
    "        )\n",
    "    )\n",
    "\n",
    "    sql = response.candidates[0].content.parts[0].text\n",
    "    if is_markdown_code_chunk(text = sql):\n",
    "        sql = extract_code_from_markdown(markdown_text=sql)\n",
    "\n",
    "    output = lang2sql(message = m, response = response, sql = sql)\n",
    "    return output"
   ]
  },
  {
   "cell_type": "code",
   "execution_count": 55,
   "id": "4bafcb15",
   "metadata": {},
   "outputs": [],
   "source": [
    "query = lang2sql_gemini( \n",
    "                        table_name = \"chicago_crime\", \n",
    "                        query = \"How many cases ended up with arrest?\")"
   ]
  },
  {
   "cell_type": "code",
   "execution_count": 56,
   "id": "84858cf3",
   "metadata": {},
   "outputs": [
    {
     "name": "stdout",
     "output_type": "stream",
     "text": [
      "SELECT count(*) FROM chicago_crime WHERE arrest = TRUE\n",
      "┌──────────────┐\n",
      "│ count_star() │\n",
      "│    int64     │\n",
      "├──────────────┤\n",
      "│        80000 │\n",
      "└──────────────┘\n",
      "\n"
     ]
    }
   ],
   "source": [
    "print(query.sql)\n",
    "duckdb.sql(query.sql).show()"
   ]
  },
  {
   "cell_type": "code",
   "execution_count": 62,
   "id": "65c8420e",
   "metadata": {},
   "outputs": [],
   "source": [
    "def lang2answer_gemini( table_name, query, model =\"gemini-2.0-flash\", temperature = 0,max_output_token = 256, verbose = False):\n",
    "    query = lang2sql_gemini(\n",
    "                        table_name = table_name,\n",
    "                        query = query, \n",
    "                        model = model,\n",
    "                        temperature = temperature,\n",
    "                        max_output_token = max_output_token\n",
    "                    )\n",
    "    if verbose:\n",
    "        print(query.sql)\n",
    "    output = duckdb.sql(query.sql)\n",
    "    return output"
   ]
  },
  {
   "cell_type": "code",
   "execution_count": 63,
   "id": "62e9455b",
   "metadata": {},
   "outputs": [
    {
     "name": "stdout",
     "output_type": "stream",
     "text": [
      "SELECT count(*) FROM chicago_crime WHERE arrest = TRUE\n"
     ]
    },
    {
     "data": {
      "text/plain": [
       "┌──────────────┐\n",
       "│ count_star() │\n",
       "│    int64     │\n",
       "├──────────────┤\n",
       "│        80000 │\n",
       "└──────────────┘"
      ]
     },
     "execution_count": 63,
     "metadata": {},
     "output_type": "execute_result"
    }
   ],
   "source": [
    "lang2answer_gemini( \n",
    "            table_name = \"chicago_crime\", \n",
    "            query = \"How many cases ended up with arrest?\",\n",
    "            verbose = True)"
   ]
  },
  {
   "cell_type": "code",
   "execution_count": 65,
   "id": "d08f4528",
   "metadata": {},
   "outputs": [
    {
     "name": "stdout",
     "output_type": "stream",
     "text": [
      "SELECT primary_type, COUNT(*) AS case_count FROM chicago_crime GROUP BY primary_type;\n"
     ]
    },
    {
     "data": {
      "text/plain": [
       "┌───────────────────────────────────┬────────────┐\n",
       "│           primary_type            │ case_count │\n",
       "│              varchar              │   int64    │\n",
       "├───────────────────────────────────┼────────────┤\n",
       "│ OTHER OFFENSE                     │      38440 │\n",
       "│ CRIMINAL DAMAGE                   │      66226 │\n",
       "│ DECEPTIVE PRACTICE                │      37780 │\n",
       "│ ASSAULT                           │      52628 │\n",
       "│ SEX OFFENSE                       │       2999 │\n",
       "│ BURGLARY                          │      18328 │\n",
       "│ NARCOTICS                         │      14297 │\n",
       "│ CONCEALED CARRY LICENSE VIOLATION │        510 │\n",
       "│ INTIMIDATION                      │        438 │\n",
       "│ LIQUOR LAW VIOLATION              │        453 │\n",
       "│   ·                               │         ·  │\n",
       "│   ·                               │         ·  │\n",
       "│   ·                               │         ·  │\n",
       "│ ARSON                             │       1123 │\n",
       "│ KIDNAPPING                        │        269 │\n",
       "│ GAMBLING                          │         39 │\n",
       "│ HUMAN TRAFFICKING                 │         37 │\n",
       "│ OTHER NARCOTIC VIOLATION          │         10 │\n",
       "│ WEAPONS VIOLATION                 │      18250 │\n",
       "│ ROBBERY                           │      21972 │\n",
       "│ MOTOR VEHICLE THEFT               │      55948 │\n",
       "│ INTERFERENCE WITH PUBLIC OFFICER  │       1588 │\n",
       "│ OBSCENITY                         │        116 │\n",
       "├───────────────────────────────────┴────────────┤\n",
       "│ 31 rows (20 shown)                   2 columns │\n",
       "└────────────────────────────────────────────────┘"
      ]
     },
     "execution_count": 65,
     "metadata": {},
     "output_type": "execute_result"
    }
   ],
   "source": [
    "lang2answer_gemini( \n",
    "            table_name = \"chicago_crime\", \n",
    "            query = \"Summarize the cases by primary type\",\n",
    "            verbose = True)"
   ]
  },
  {
   "cell_type": "markdown",
   "id": "be0b99e1",
   "metadata": {},
   "source": []
  },
  {
   "cell_type": "code",
   "execution_count": 66,
   "id": "38ef5f5b",
   "metadata": {},
   "outputs": [
    {
     "name": "stdout",
     "output_type": "stream",
     "text": [
      "SELECT primary_type, count(*) AS num_crimes FROM chicago_crime GROUP BY primary_type ORDER BY num_crimes DESC\n"
     ]
    },
    {
     "data": {
      "text/plain": [
       "┌───────────────────────────────────┬────────────┐\n",
       "│           primary_type            │ num_crimes │\n",
       "│              varchar              │   int64    │\n",
       "├───────────────────────────────────┼────────────┤\n",
       "│ THEFT                             │     134864 │\n",
       "│ BATTERY                           │     103032 │\n",
       "│ CRIMINAL DAMAGE                   │      66226 │\n",
       "│ MOTOR VEHICLE THEFT               │      55948 │\n",
       "│ ASSAULT                           │      52628 │\n",
       "│ OTHER OFFENSE                     │      38440 │\n",
       "│ DECEPTIVE PRACTICE                │      37780 │\n",
       "│ ROBBERY                           │      21972 │\n",
       "│ BURGLARY                          │      18328 │\n",
       "│ WEAPONS VIOLATION                 │      18250 │\n",
       "│         ·                         │         ·  │\n",
       "│         ·                         │         ·  │\n",
       "│         ·                         │         ·  │\n",
       "│ CONCEALED CARRY LICENSE VIOLATION │        510 │\n",
       "│ LIQUOR LAW VIOLATION              │        453 │\n",
       "│ INTIMIDATION                      │        438 │\n",
       "│ KIDNAPPING                        │        269 │\n",
       "│ OBSCENITY                         │        116 │\n",
       "│ GAMBLING                          │         39 │\n",
       "│ HUMAN TRAFFICKING                 │         37 │\n",
       "│ PUBLIC INDECENCY                  │         21 │\n",
       "│ OTHER NARCOTIC VIOLATION          │         10 │\n",
       "│ NON-CRIMINAL                      │          8 │\n",
       "├───────────────────────────────────┴────────────┤\n",
       "│ 31 rows (20 shown)                   2 columns │\n",
       "└────────────────────────────────────────────────┘"
      ]
     },
     "execution_count": 66,
     "metadata": {},
     "output_type": "execute_result"
    }
   ],
   "source": [
    "\n",
    "lang2answer_gemini( \n",
    "            table_name = \"chicago_crime\", \n",
    "            query = \"Summarize the cases by primary type, sort by number of crimes in descending order\",\n",
    "            verbose = True)"
   ]
  },
  {
   "cell_type": "code",
   "execution_count": 67,
   "id": "6a91b663",
   "metadata": {},
   "outputs": [
    {
     "name": "stdout",
     "output_type": "stream",
     "text": [
      "SELECT * FROM chicago_crime WHERE primary_type = 'ROBBERY'\n"
     ]
    },
    {
     "data": {
      "text/plain": [
       "┌──────────┬─────────────┬─────────────────────┬────────────────────────┬─────────┬──────────────┬────────────────────────────────────┬──────────────────────┬─────────┬──────────┬───────┬──────────┬────────┬────────────────┬──────────┬──────────────┬──────────────┬───────┬─────────────────────┬──────────────┬───────────────┐\n",
       "│    id    │ case_number │      datetime       │         block          │  iucr   │ primary_type │            description             │ location_description │ arrest  │ domestic │ beat  │ district │  ward  │ community_area │ fbi_code │ x_coordinate │ y_coordinate │ year  │     updated_on      │   latitude   │   longitude   │\n",
       "│  int64   │   varchar   │       varchar       │        varchar         │ varchar │   varchar    │              varchar               │       varchar        │ boolean │ boolean  │ int64 │  int64   │ double │     double     │ varchar  │    double    │    double    │ int64 │    timestamp_ns     │    double    │    double     │\n",
       "├──────────┼─────────────┼─────────────────────┼────────────────────────┼─────────┼──────────────┼────────────────────────────────────┼──────────────────────┼─────────┼──────────┼───────┼──────────┼────────┼────────────────┼──────────┼──────────────┼──────────────┼───────┼─────────────────────┼──────────────┼───────────────┤\n",
       "│ 12938372 │ JG100045    │ 2023-01-01 00:30:00 │ 006XX N CLARK ST       │ 0320    │ ROBBERY      │ STRONG ARM - NO WEAPON             │ STREET               │ false   │ false    │  1832 │       18 │   42.0 │            8.0 │ 03       │    1175432.0 │    1904246.0 │  2023 │ 2023-08-19 15:40:26 │ 41.892628411 │  -87.63115524 │\n",
       "│ 12939981 │ JG101731    │ 2023-01-01 01:00:00 │ 116XX S MICHIGAN AVE   │ 031A    │ ROBBERY      │ ARMED - HANDGUN                    │ GAS STATION          │ false   │ false    │   532 │        5 │    9.0 │           53.0 │ 03       │    1178927.0 │    1827640.0 │  2023 │ 2023-08-19 15:40:26 │ 41.682334926 │ -87.620651734 │\n",
       "│ 12943227 │ JG104671    │ 2023-01-01 01:00:00 │ 005XX S PULASKI RD     │ 0320    │ ROBBERY      │ STRONG ARM - NO WEAPON             │ CTA TRAIN            │ false   │ false    │  1132 │       11 │   24.0 │           26.0 │ 03       │    1149812.0 │    1897228.0 │  2023 │ 2023-08-19 15:40:26 │ 41.873907046 │ -87.725430093 │\n",
       "│ 12938763 │ JG100594    │ 2023-01-01 01:00:00 │ 002XX E CHICAGO AVE    │ 0320    │ ROBBERY      │ STRONG ARM - NO WEAPON             │ SIDEWALK             │ false   │ false    │  1833 │       18 │    2.0 │            8.0 │ 03       │    1177897.0 │    1905774.0 │  2023 │ 2023-08-19 15:40:26 │ 41.896765602 │ -87.622055873 │\n",
       "│ 12940477 │ JG101093    │ 2023-01-01 01:00:00 │ 024XX W 46TH ST        │ 0312    │ ROBBERY      │ ARMED - KNIFE / CUTTING INSTRUMENT │ STREET               │ false   │ false    │   922 │        9 │   15.0 │           58.0 │ 03       │    1160758.0 │    1874106.0 │  2023 │ 2023-08-19 15:40:26 │ 41.810238009 │ -87.685881415 │\n",
       "│ 12939693 │ JG101232    │ 2023-01-01 01:30:00 │ 002XX W ONTARIO ST     │ 0320    │ ROBBERY      │ STRONG ARM - NO WEAPON             │ BAR OR TAVERN        │ false   │ false    │  1831 │       18 │   42.0 │            8.0 │ 03       │    1174477.0 │    1904439.0 │  2023 │ 2023-08-19 15:40:26 │ 41.893179406 │ -87.634656764 │\n",
       "│ 12938465 │ JG100173    │ 2023-01-01 01:53:00 │ 009XX W 69TH ST        │ 0325    │ ROBBERY      │ VEHICULAR HIJACKING                │ STREET               │ false   │ false    │   733 │        7 │   16.0 │           68.0 │ 03       │    1171414.0 │    1859087.0 │  2023 │ 2023-09-03 15:42:05 │ 41.768797245 │ -87.647236204 │\n",
       "│ 12938672 │ JG100453    │ 2023-01-01 02:00:00 │ 0000X S LEAMINGTON AVE │ 0326    │ ROBBERY      │ AGGRAVATED VEHICULAR HIJACKING     │ STREET               │ false   │ false    │  1533 │       15 │   28.0 │           25.0 │ 03       │    1142140.0 │    1899444.0 │  2023 │ 2023-08-19 15:40:26 │  41.88013368 │ -87.753543416 │\n",
       "│ 12939746 │ JG101047    │ 2023-01-01 03:30:00 │ 005XX N STATE ST       │ 0320    │ ROBBERY      │ STRONG ARM - NO WEAPON             │ CTA PLATFORM         │ false   │ false    │  1834 │       18 │   42.0 │            8.0 │ 03       │    1176278.0 │    1903807.0 │  2023 │ 2023-08-19 15:40:26 │ 41.891404732 │ -87.628061509 │\n",
       "│ 12938906 │ JG100574    │ 2023-01-01 11:35:00 │ 099XX S HOXIE AVE      │ 0326    │ ROBBERY      │ AGGRAVATED VEHICULAR HIJACKING     │ STREET               │ false   │ false    │   431 │        4 │    7.0 │           51.0 │ 03       │    1195113.0 │    1839643.0 │  2023 │ 2023-08-19 15:40:26 │ 41.714889705 │ -87.561008339 │\n",
       "│     ·    │    ·        │          ·          │         ·              │  ·      │    ·         │               ·                    │   ·                  │   ·     │   ·      │    ·  │        · │     ·  │             ·  │ ·        │        ·     │        ·     │    ·  │          ·          │       ·      │       ·       │\n",
       "│     ·    │    ·        │          ·          │         ·              │  ·      │    ·         │               ·                    │   ·                  │   ·     │   ·      │    ·  │        · │     ·  │             ·  │ ·        │        ·     │        ·     │    ·  │          ·          │       ·      │       ·       │\n",
       "│     ·    │    ·        │          ·          │         ·              │  ·      │    ·         │               ·                    │   ·                  │   ·     │   ·      │    ·  │        · │     ·  │             ·  │ ·        │        ·     │        ·     │    ·  │          ·          │       ·      │       ·       │\n",
       "│ 13292658 │ JG522129    │ 2023-11-28 16:33:00 │ 016XX S ST LOUIS AVE   │ 0313    │ ROBBERY      │ ARMED - OTHER DANGEROUS WEAPON     │ STREET               │ false   │ false    │  1021 │       10 │   24.0 │           29.0 │ 03       │    1153308.0 │    1891503.0 │  2023 │ 2023-12-06 15:40:46 │ 41.858128349 │ -87.712746304 │\n",
       "│ 13291247 │ JG520923    │ 2023-11-28 16:40:00 │ 034XX N NEENAH AVE     │ 031A    │ ROBBERY      │ ARMED - HANDGUN                    │ STREET               │ false   │ false    │  1632 │       16 │   38.0 │           17.0 │ 03       │    1132105.0 │    1922159.0 │  2023 │ 2023-12-06 15:40:46 │ 41.942646648 │ -87.789862922 │\n",
       "│ 13291249 │ JG521029    │ 2023-11-28 17:38:00 │ 040XX W VAN BUREN ST   │ 031A    │ ROBBERY      │ ARMED - HANDGUN                    │ APARTMENT            │ false   │ false    │  1132 │       11 │   28.0 │           26.0 │ 03       │    1149518.0 │    1897717.0 │  2023 │ 2023-12-06 15:40:46 │ 41.875254627 │ -87.726496837 │\n",
       "│ 13291475 │ JG521076    │ 2023-11-28 17:47:00 │ 041XX W 79TH ST        │ 031A    │ ROBBERY      │ ARMED - HANDGUN                    │ APARTMENT            │ false   │ false    │   834 │        8 │   18.0 │           70.0 │ 03       │    1150135.0 │    1851850.0 │  2023 │ 2023-12-06 15:40:46 │ 41.749377016 │ -87.725422732 │\n",
       "│ 13291308 │ JG521087    │ 2023-11-28 18:20:00 │ 049XX W 47TH ST        │ 031A    │ ROBBERY      │ ARMED - HANDGUN                    │ ALLEY                │ false   │ false    │   814 │        8 │   22.0 │           56.0 │ 03       │    1144232.0 │    1873018.0 │  2023 │ 2023-12-06 15:40:46 │ 41.807578028 │ -87.746524733 │\n",
       "│ 13291326 │ JG521162    │ 2023-11-28 18:30:00 │ 027XX W WELLINGTON AVE │ 031A    │ ROBBERY      │ ARMED - HANDGUN                    │ STREET               │ false   │ false    │  1411 │       14 │   35.0 │           21.0 │ 03       │    1157440.0 │    1919821.0 │  2023 │ 2023-12-06 15:40:46 │ 41.935752485 │ -87.696808051 │\n",
       "│ 13291537 │ JG521164    │ 2023-11-28 19:16:00 │ 006XX N TRUMBULL AVE   │ 031A    │ ROBBERY      │ ARMED - HANDGUN                    │ VEHICLE - COMMERCIAL │ false   │ false    │  1121 │       11 │   27.0 │           23.0 │ 03       │    1153263.0 │    1904129.0 │  2023 │ 2023-12-06 15:40:46 │ 41.892776333 │ -87.712576298 │\n",
       "│ 13291572 │ JG521228    │ 2023-11-28 20:40:00 │ 010XX W POLK ST        │ 031A    │ ROBBERY      │ ARMED - HANDGUN                    │ STREET               │ false   │ false    │  1232 │       12 │   34.0 │           28.0 │ 03       │    1169842.0 │    1896634.0 │  2023 │ 2023-12-06 15:40:46 │ 41.871864246 │ -87.651906886 │\n",
       "│ 13291573 │ JG521231    │ 2023-11-28 21:00:00 │ 015XX E 67TH ST        │ 031A    │ ROBBERY      │ ARMED - HANDGUN                    │ DRUG STORE           │ false   │ false    │   332 │        3 │    5.0 │           43.0 │ 03       │    1187705.0 │    1860871.0 │  2023 │ 2023-12-06 15:40:46 │ 41.773320568 │ -87.587465382 │\n",
       "│ 13291647 │ JG521273    │ 2023-11-28 21:20:00 │ 022XX S STATE ST       │ 031A    │ ROBBERY      │ ARMED - HANDGUN                    │ CTA TRAIN            │ false   │ false    │   131 │        1 │    3.0 │           33.0 │ 03       │    1176662.0 │    1889603.0 │  2023 │ 2023-12-06 15:40:46 │ 41.852419423 │ -87.627080475 │\n",
       "├──────────┴─────────────┴─────────────────────┴────────────────────────┴─────────┴──────────────┴────────────────────────────────────┴──────────────────────┴─────────┴──────────┴───────┴──────────┴────────┴────────────────┴──────────┴──────────────┴──────────────┴───────┴─────────────────────┴──────────────┴───────────────┤\n",
       "│ ? rows (>9999 rows, 20 shown)                                                                                                                                                                                                                                                                                           21 columns │\n",
       "└────────────────────────────────────────────────────────────────────────────────────────────────────────────────────────────────────────────────────────────────────────────────────────────────────────────────────────────────────────────────────────────────────────────────────────────────────────────────────────────────────┘"
      ]
     },
     "execution_count": 67,
     "metadata": {},
     "output_type": "execute_result"
    }
   ],
   "source": [
    "lang2answer_gemini( \n",
    "            table_name = \"chicago_crime\", \n",
    "            query = \"Show me cases that are type of robbery\", \n",
    "            verbose=True)"
   ]
  },
  {
   "cell_type": "code",
   "execution_count": 70,
   "id": "58f641bc",
   "metadata": {},
   "outputs": [
    {
     "name": "stdout",
     "output_type": "stream",
     "text": [
      "SELECT count(*) FROM chicago_crime WHERE primary_type = 'ROBBERY'\n"
     ]
    },
    {
     "data": {
      "text/plain": [
       "┌──────────────┐\n",
       "│ count_star() │\n",
       "│    int64     │\n",
       "├──────────────┤\n",
       "│        21972 │\n",
       "└──────────────┘"
      ]
     },
     "execution_count": 70,
     "metadata": {},
     "output_type": "execute_result"
    }
   ],
   "source": [
    "lang2answer_gemini( \n",
    "                        table_name = \"chicago_crime\", \n",
    "                        query = \"How many cases is the type of ROBBERY?\",\n",
    "                        verbose = True)"
   ]
  },
  {
   "cell_type": "code",
   "execution_count": null,
   "id": "88571e10",
   "metadata": {},
   "outputs": [],
   "source": []
  }
 ],
 "metadata": {
  "kernelspec": {
   "display_name": "venv",
   "language": "python",
   "name": "python3"
  },
  "language_info": {
   "codemirror_mode": {
    "name": "ipython",
    "version": 3
   },
   "file_extension": ".py",
   "mimetype": "text/x-python",
   "name": "python",
   "nbconvert_exporter": "python",
   "pygments_lexer": "ipython3",
   "version": "3.10.5"
  }
 },
 "nbformat": 4,
 "nbformat_minor": 5
}
